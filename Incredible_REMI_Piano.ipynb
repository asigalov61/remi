{
  "nbformat": 4,
  "nbformat_minor": 0,
  "metadata": {
    "colab": {
      "name": "Incredible-REMI-Piano.ipynb",
      "provenance": [],
      "collapsed_sections": [],
      "authorship_tag": "ABX9TyMEyydTxJTdhAo8LvnnJ/Fl",
      "include_colab_link": true
    },
    "kernelspec": {
      "name": "python3",
      "display_name": "Python 3"
    },
    "accelerator": "GPU"
  },
  "cells": [
    {
      "cell_type": "markdown",
      "metadata": {
        "id": "view-in-github",
        "colab_type": "text"
      },
      "source": [
        "<a href=\"https://colab.research.google.com/github/asigalov61/remi/blob/master/Incredible_REMI_Piano.ipynb\" target=\"_parent\"><img src=\"https://colab.research.google.com/assets/colab-badge.svg\" alt=\"Open In Colab\"/></a>"
      ]
    },
    {
      "cell_type": "markdown",
      "metadata": {
        "id": "i3NvE0ypE_FH",
        "colab_type": "text"
      },
      "source": [
        "Try REMI Pop Music Transformer yourself with this simple Google Colab"
      ]
    },
    {
      "cell_type": "code",
      "metadata": {
        "id": "n4eb266ok6NP",
        "colab_type": "code",
        "colab": {}
      },
      "source": [
        "%tensorflow_version 1.x\n",
        "!pip install gast==0.2.2\n",
        "!pip install tensorflow-gpu==1.14.0\n",
        "!pip install keras\n",
        "!pip install miditoolkit\n",
        "!git clone https://github.com/asigalov61/remi.git"
      ],
      "execution_count": null,
      "outputs": []
    },
    {
      "cell_type": "code",
      "metadata": {
        "id": "7hqLaVuvnZAV",
        "colab_type": "code",
        "colab": {}
      },
      "source": [
        "import os\n",
        "os.environ['CUDA_VISIBLE_DEVICES'] = '0'\n",
        "os.chdir('remi')\n",
        "from model import PopMusicTransformer"
      ],
      "execution_count": null,
      "outputs": []
    },
    {
      "cell_type": "code",
      "metadata": {
        "id": "JleK3KpZuGrn",
        "colab_type": "code",
        "colab": {}
      },
      "source": [
        "!wget 'https://incredibleremipiano.s3-us-west-1.amazonaws.com/REMI-tempo-checkpoint.zip'\n",
        "!unzip 'REMI-tempo-checkpoint.zip'"
      ],
      "execution_count": null,
      "outputs": []
    },
    {
      "cell_type": "code",
      "metadata": {
        "id": "D9eoq7tmt-wn",
        "colab_type": "code",
        "colab": {}
      },
      "source": [
        "model = PopMusicTransformer(checkpoint='REMI-tempo-checkpoint', is_training=False)"
      ],
      "execution_count": null,
      "outputs": []
    },
    {
      "cell_type": "code",
      "metadata": {
        "id": "7-cF8y6v6M9s",
        "colab_type": "code",
        "colab": {}
      },
      "source": [
        "    # generate from scratch\n",
        "    model.generate(\n",
        "        n_target_bar=16,\n",
        "        temperature=1.2,\n",
        "        topk=5,\n",
        "        output_path='./result/from_scratch.midi',\n",
        "        prompt=None)"
      ],
      "execution_count": 4,
      "outputs": []
    },
    {
      "cell_type": "code",
      "metadata": {
        "id": "yMv13kM46PZo",
        "colab_type": "code",
        "colab": {}
      },
      "source": [
        "    # generate continuation\n",
        "    model.generate(\n",
        "        n_target_bar=16,\n",
        "        temperature=1.2,\n",
        "        topk=5,\n",
        "        output_path='./result/continuation.midi',\n",
        "        prompt='/content/remi/prompt1.mid')"
      ],
      "execution_count": null,
      "outputs": []
    },
    {
      "cell_type": "code",
      "metadata": {
        "id": "vwhF84aICEVk",
        "colab_type": "code",
        "colab": {}
      },
      "source": [
        "# close model\n",
        "model.close()"
      ],
      "execution_count": null,
      "outputs": []
    }
  ]
}